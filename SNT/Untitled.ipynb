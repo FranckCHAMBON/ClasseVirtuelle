{
 "cells": [
  {
   "cell_type": "code",
   "execution_count": 4,
   "metadata": {},
   "outputs": [
    {
     "data": {
      "text/html": [
       "<img src=\"data:image/svg+xml;base64,PD94bWwgdmVyc2lvbj0iMS4wIiBlbmNvZGluZz0iVVRGLTgiPz4KPHN2ZyB4bWxucz0iaHR0cDovL3d3dy53My5vcmcvMjAwMC9zdmciIHhtbG5zOnhsaW5rPSJodHRwOi8vd3d3LnczLm9yZy8xOTk5L3hsaW5rIgogICAgIHdpZHRoPSI0MDAiIGhlaWdodD0iMjAwIiB2aWV3Qm94PSItMTAwLjAgLTUwLjAgMjAwIDEwMCI+CjxkZWZzPgo8L2RlZnM+CjxwYXRoIGQ9Ik0tODAsNDUgTDcwLDQ5IEw5NSwtNDkgTC05MCwtNDAiIGZpbGw9IiNlZWVlMDAiIHN0cm9rZT0iYmxhY2siIC8+CjxjaXJjbGUgY3g9Ii00MCIgY3k9IjEwIiByPSIzMCIgZmlsbD0icmVkIiBzdHJva2Utd2lkdGg9IjIiIHN0cm9rZT0iYmxhY2siIC8+CjxwYXRoIGQ9Ik0tMzAsLTUgbDYwLC0zMCBoLTcwIFoiIHN0cm9rZS13aWR0aD0iMiIgc3Ryb2tlPSJncmVlbiIgZmlsbD0iYmxhY2siIGZpbGwtb3BhY2l0eT0iMC41IiAvPgo8L3N2Zz4=\">"
      ],
      "text/plain": [
       "<drawSvg.drawing.Drawing at 0x7f6ed72eb070>"
      ]
     },
     "execution_count": 4,
     "metadata": {},
     "output_type": "execute_result"
    }
   ],
   "source": [
    "import drawSvg as draw\n",
    "\n",
    "d = draw.Drawing(200, 100, origin='center', displayInline=False)\n",
    "\n",
    "# Draw an irregular polygon\n",
    "d.append(draw.Lines(-80, -45,\n",
    "                    70, -49,\n",
    "                    95, 49,\n",
    "                    -90, 40,\n",
    "                    close=False,\n",
    "            fill='#eeee00',\n",
    "            stroke='black'))\n",
    "d.append(draw.Circle(-40, -10, 30,\n",
    "            fill='red', stroke_width=2, stroke='black'))\n",
    "\n",
    "# Draw an arbitrary path (a triangle in this case)\n",
    "p = draw.Path(stroke_width=2, stroke='green',\n",
    "              fill='black', fill_opacity=0.5)\n",
    "p.M(-30,5)  # Start path at point (-30, 5)\n",
    "p.l(60,30)  # Draw line to (60, 30)\n",
    "p.h(-70)    # Draw horizontal line to x=-70\n",
    "p.Z()       # Draw line to start\n",
    "d.append(p)\n",
    "\n",
    "\n",
    "\n",
    "d.setPixelScale(2)  # Set number of pixels per geometry unit\n",
    "d.saveSvg('example.svg')\n",
    "d.savePng('example.png')\n",
    "\n",
    "d  # Display as SVG"
   ]
  },
  {
   "cell_type": "code",
   "execution_count": null,
   "metadata": {},
   "outputs": [],
   "source": []
  }
 ],
 "metadata": {
  "kernelspec": {
   "display_name": "Python 3",
   "language": "python",
   "name": "python3"
  },
  "language_info": {
   "codemirror_mode": {
    "name": "ipython",
    "version": 3
   },
   "file_extension": ".py",
   "mimetype": "text/x-python",
   "name": "python",
   "nbconvert_exporter": "python",
   "pygments_lexer": "ipython3",
   "version": "3.8.2"
  }
 },
 "nbformat": 4,
 "nbformat_minor": 4
}
