{
 "cells": [
  {
   "cell_type": "code",
   "execution_count": 7,
   "metadata": {},
   "outputs": [
    {
     "data": {
      "text/html": [
       "<img src=\"data:image/svg+xml;base64,PD94bWwgdmVyc2lvbj0iMS4wIiBlbmNvZGluZz0iVVRGLTgiPz4KPHN2ZyB4bWxucz0iaHR0cDovL3d3dy53My5vcmcvMjAwMC9zdmciIHhtbG5zOnhsaW5rPSJodHRwOi8vd3d3LnczLm9yZy8xOTk5L3hsaW5rIgogICAgIHdpZHRoPSI4MDAiIGhlaWdodD0iNDAwIiB2aWV3Qm94PSItMTAwLjAgLTUwLjAgMjAwIDEwMCI+CjxkZWZzPgo8L2RlZnM+CjxwYXRoIGQ9Ik0tODAsNDUgTDcwLDQ5IEw5NSwtNDkgTC05MCwtNDAiIGZpbGw9IiNlZWVlMDAiIHN0cm9rZT0iYmxhY2siIC8+CjxjaXJjbGUgY3g9Ii00MCIgY3k9IjEwIiByPSIzMCIgZmlsbD0icmVkIiBzdHJva2Utd2lkdGg9IjIiIHN0cm9rZT0iYmxhY2siIC8+CjxwYXRoIGQ9Ik0tMzAsLTUgbDYwLC0zMCBoLTcwIFoiIHN0cm9rZS13aWR0aD0iMiIgc3Ryb2tlPSJncmVlbiIgZmlsbD0iYmxhY2siIGZpbGwtb3BhY2l0eT0iMC41IiAvPgo8Y2lyY2xlIGN4PSI2MCIgY3k9IjIwIiByPSIyMCIgc3Ryb2tlLWRhc2hhcnJheT0iNzMuMzAzODI4NTgzNzYxODQgNTIuMzU5ODc3NTU5ODI5ODgiIHN0cm9rZS1kYXNob2Zmc2V0PSItMzEuNDE1OTI2NTM1ODk3OTMiIHN0cm9rZT0icmVkIiBzdHJva2Utd2lkdGg9IjUiIGZpbGw9InJlZCIgZmlsbC1vcGFjaXR5PSIwLjIiIC8+CjxwYXRoIGQ9Ik03MC4wLDIuNjc5NDkxOTI0MzExMjI5IEEyMCwyMCwwLDEsMCw1OS45OTk5OTk5OTk5OTk5OSw0MC4wIiBzdHJva2U9ImdyZWVuIiBzdHJva2Utd2lkdGg9IjMiIGZpbGw9Im5vbmUiIC8+CjxwYXRoIGQ9Ik01OS45OTk5OTk5OTk5OTk5OSw0MC4wIEEyMCwyMCwwLDEsMSw3MC4wLDIuNjc5NDkxOTI0MzExMjI5IiBzdHJva2U9ImJsdWUiIHN0cm9rZS13aWR0aD0iMSIgZmlsbD0iYmxhY2siIGZpbGwtb3BhY2l0eT0iMC4zIiAvPgo8L3N2Zz4=\">"
      ],
      "text/plain": [
       "<drawSvg.drawing.Drawing at 0x7f6ed73069d0>"
      ]
     },
     "execution_count": 7,
     "metadata": {},
     "output_type": "execute_result"
    }
   ],
   "source": [
    "import drawSvg as draw\n",
    "\n",
    "d = draw.Drawing(200, 100, origin='center', displayInline=False)\n",
    "\n",
    "# Draw an irregular polygon\n",
    "d.append(draw.Lines(-80, -45,\n",
    "                    70, -49,\n",
    "                    95, 49,\n",
    "                    -90, 40,\n",
    "                    close=False,\n",
    "            fill='#eeee00',\n",
    "            stroke='black'))\n",
    "d.append(draw.Circle(-40, -10, 30,\n",
    "            fill='red', stroke_width=2, stroke='black'))\n",
    "\n",
    "# Draw an arbitrary path (a triangle in this case)\n",
    "p = draw.Path(stroke_width=2, stroke='green',\n",
    "              fill='black', fill_opacity=0.5)\n",
    "p.M(-30,5)  # Start path at point (-30, 5)\n",
    "p.l(60,30)  # Draw line to (60, 30)\n",
    "p.h(-70)    # Draw horizontal line to x=-70\n",
    "p.Z()       # Draw line to start\n",
    "d.append(p)\n",
    "\n",
    "# Draw multiple circular arcs\n",
    "d.append(draw.ArcLine(60,-20,20,60,270,\n",
    "            stroke='red', stroke_width=5, fill='red', fill_opacity=0.2))\n",
    "d.append(draw.Arc(60,-20,20,60,270,cw=False,\n",
    "            stroke='green', stroke_width=3, fill='none'))\n",
    "d.append(draw.Arc(60,-20,20,270,60,cw=True,\n",
    "            stroke='blue', stroke_width=1, fill='black', fill_opacity=0.3))\n",
    "\n",
    "\n",
    "d.setPixelScale(4)  # Set number of pixels per geometry unit\n",
    "d.saveSvg('example.svg')\n",
    "d.savePng('example.png')\n",
    "\n",
    "d  # Display as SVG"
   ]
  },
  {
   "cell_type": "code",
   "execution_count": null,
   "metadata": {},
   "outputs": [],
   "source": []
  }
 ],
 "metadata": {
  "kernelspec": {
   "display_name": "Python 3",
   "language": "python",
   "name": "python3"
  },
  "language_info": {
   "codemirror_mode": {
    "name": "ipython",
    "version": 3
   },
   "file_extension": ".py",
   "mimetype": "text/x-python",
   "name": "python",
   "nbconvert_exporter": "python",
   "pygments_lexer": "ipython3",
   "version": "3.8.2"
  }
 },
 "nbformat": 4,
 "nbformat_minor": 4
}
